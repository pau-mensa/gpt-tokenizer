{
 "cells": [
  {
   "cell_type": "code",
   "execution_count": null,
   "id": "ff0b85fd-3d9f-4b72-bcf3-efaff7bd21e4",
   "metadata": {},
   "outputs": [],
   "source": [
    "def get_stats(ids):\n",
    "    counts = {}\n",
    "    for pair in zip(ids, ids[1:]):\n",
    "        counts[pair] = counts.get(pair, 0) + 1\n",
    "    return counts\n",
    "\n",
    "def merge(ids, pair, idx):\n",
    "    newids = []\n",
    "    i = 0\n",
    "    while i < len(ids):\n",
    "        if i < len(ids) - 1 and ids[i] == pair[0] and ids[i+1] == pair[1]:\n",
    "            newids.append(idx)\n",
    "            i += 2\n",
    "        else:\n",
    "            newids.append(ids[i])\n",
    "            i += 1\n",
    "    return newids"
   ]
  },
  {
   "cell_type": "code",
   "execution_count": null,
   "id": "65dd4dc4-bf14-4887-8ff1-3550cea32931",
   "metadata": {},
   "outputs": [],
   "source": [
    "class BasicTokenizer:\n",
    "    \n",
    "    def __init__(self):\n",
    "        self.merges = {}\n",
    "        self.vocab = {}\n",
    "    \n",
    "    def train(self, text, vocab_size, verbose=False):\n",
    "        tokens = text.encode(\"utf-8\")\n",
    "        tokens = list(map(int, tokens)) # convert to a list of integers in range 0..255 for convenience\n",
    "        num_merges = vocab_size - 256\n",
    "        ids = list(tokens)\n",
    "\n",
    "        self.merges = {}\n",
    "        for i in range(num_merges):\n",
    "            stats = get_stats(ids)\n",
    "            pair = max(stats, key=stats.get)\n",
    "            idx = 256 + i\n",
    "            if verbose:\n",
    "                print(f\"merging {pair} into a new token {idx}\")\n",
    "            ids = merge(ids, pair, idx)\n",
    "            self.merges[pair] = idx\n",
    "            \n",
    "        self.vocab = {idx: bytes([idx]) for idx in range(256)}\n",
    "        for (p0, p1), idx in self.merges.items():\n",
    "            self.vocab[idx] = self.vocab[p0] + self.vocab[p1]\n",
    "    \n",
    "    def encode(self, text):\n",
    "        tokens = text.encode(\"utf-8\")\n",
    "        tokens = list(map(int, tokens)) # convert to a list of integers in range 0..255 for convenience\n",
    "\n",
    "        while True:\n",
    "            s = get_stats(tokens)\n",
    "            pair = min(s, key=lambda x: self.merges.get(x, float('inf')))\n",
    "            if pair not in self.merges:\n",
    "                break\n",
    "            tokens = merge(tokens, pair, self.merges[pair])\n",
    "\n",
    "        return tokens\n",
    "    \n",
    "    def decode(self, ids):\n",
    "        original = b''\n",
    "        for _id in ids:\n",
    "            original += self.vocab[_id]\n",
    "        return original.decode('utf-8', errors=\"replace\")\n",
    "    "
   ]
  },
  {
   "cell_type": "code",
   "execution_count": null,
   "id": "e8cacb21-bb91-42ec-9b1f-ec120e23cb01",
   "metadata": {},
   "outputs": [],
   "source": [
    "import regex as re\n",
    "\n",
    "GPT4_SPLIT_PATTERN = r\"\"\"'(?i:[sdmt]|ll|ve|re)|[^\\r\\n\\p{L}\\p{N}]?+\\p{L}+|\\p{N}{1,3}| ?[^\\s\\p{L}\\p{N}]++[\\r\\n]*|\\s*[\\r\\n]|\\s+(?!\\S)|\\s+\"\"\"\n",
    "\n",
    "class RegexTokenizer:\n",
    "    \n",
    "    def __init__(self):\n",
    "        self.merges = {}\n",
    "        self.pattern = GPT4_SPLIT_PATTERN\n",
    "        self.compiled_pattern = re.compile(self.pattern)\n",
    "        \n",
    "    \n",
    "    def train(self, text, vocab_size, verbose=False):\n",
    "        tokens = re.findall(self.compiled_pattern, text)\n",
    "        sentence = [list(l.encode('utf-8')) for l in tokens]\n",
    "        num_merges = vocab_size - 256\n",
    "\n",
    "        self.merges = {}\n",
    "        for i in range(num_merges):\n",
    "            stats = {}\n",
    "            for chunk in sentence:\n",
    "                n_stats = get_stats(chunk)\n",
    "                for k, v in n_stats.items():\n",
    "                    stats[k] = stats.get(k, 0) + n_stats[k]\n",
    "            pair = max(stats, key=stats.get)\n",
    "            idx = 256 + i\n",
    "            if verbose:\n",
    "                print(f\"merging {pair} into a new token {idx}\")\n",
    "            for s_idx, chunk in enumerate(sentence):\n",
    "                new_ids = merge(chunk, pair, idx)\n",
    "                sentence[s_idx] = new_ids\n",
    "            self.merges[pair] = idx\n",
    "            \n",
    "        self.vocab = {idx: bytes([idx]) for idx in range(256)}\n",
    "        for (p0, p1), idx in self.merges.items():\n",
    "            self.vocab[idx] = self.vocab[p0] + self.vocab[p1]\n",
    "    \n",
    "    def encode(self, text):\n",
    "        tokens = text.encode(\"utf-8\")\n",
    "        tokens = list(map(int, tokens)) # convert to a list of integers in range 0..255 for convenience\n",
    "\n",
    "        while True:\n",
    "            s = get_stats(tokens)\n",
    "            pair = min(s, key=lambda x: self.merges.get(x, float('inf')))\n",
    "            if pair not in self.merges:\n",
    "                break\n",
    "            tokens = merge(tokens, pair, self.merges[pair])\n",
    "\n",
    "        return tokens\n",
    "    \n",
    "    def decode(self, ids):\n",
    "        original = b''\n",
    "        for _id in ids:\n",
    "            original += self.vocab[_id]\n",
    "        return original.decode('utf-8', errors=\"replace\")\n",
    "    "
   ]
  },
  {
   "cell_type": "code",
   "execution_count": null,
   "id": "b3ead3ce-cba9-436e-bdaa-a8339e5aeb29",
   "metadata": {},
   "outputs": [],
   "source": [
    "t = BasicTokenizer()"
   ]
  },
  {
   "cell_type": "code",
   "execution_count": null,
   "id": "9ff0233c-dbb6-42dd-8e9a-57b950554dbd",
   "metadata": {},
   "outputs": [],
   "source": [
    "with open(\"taylorswift.txt\", \"r\", encoding=\"utf-8\") as f:\n",
    "    text = f.read()\n",
    "t = BasicTokenizer()\n",
    "t.train(text, 256+30, True)"
   ]
  },
  {
   "cell_type": "code",
   "execution_count": null,
   "id": "1073204c-4231-420c-8aab-085786ad2019",
   "metadata": {},
   "outputs": [],
   "source": [
    "x = t.encode('hello world')\n",
    "'hello world' == t.decode(x)"
   ]
  },
  {
   "cell_type": "code",
   "execution_count": null,
   "id": "50d095ea-79af-41a3-a8de-9e107b549ebe",
   "metadata": {},
   "outputs": [],
   "source": [
    "r = RegexTokenizer()"
   ]
  },
  {
   "cell_type": "code",
   "execution_count": null,
   "id": "57f69ca8-648e-4c98-bf0f-8e69ba06b8ab",
   "metadata": {
    "tags": []
   },
   "outputs": [],
   "source": [
    "with open(\"taylorswift.txt\", \"r\", encoding=\"utf-8\") as f:\n",
    "    text = f.read()\n",
    "enc = RegexTokenizer()\n",
    "r.train(text, 256+30, True)"
   ]
  }
 ],
 "metadata": {
  "kernelspec": {
   "display_name": "Python 3 (ipykernel)",
   "language": "python",
   "name": "python3"
  },
  "language_info": {
   "codemirror_mode": {
    "name": "ipython",
    "version": 3
   },
   "file_extension": ".py",
   "mimetype": "text/x-python",
   "name": "python",
   "nbconvert_exporter": "python",
   "pygments_lexer": "ipython3",
   "version": "3.9.13"
  }
 },
 "nbformat": 4,
 "nbformat_minor": 5
}
